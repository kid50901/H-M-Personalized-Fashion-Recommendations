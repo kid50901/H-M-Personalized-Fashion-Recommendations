{
 "cells": [
  {
   "cell_type": "markdown",
   "id": "9b8a6548",
   "metadata": {},
   "source": [
    "# data clean"
   ]
  },
  {
   "cell_type": "code",
   "execution_count": 2,
   "id": "3abc2b1e",
   "metadata": {},
   "outputs": [],
   "source": [
    "import pandas as pd\n",
    "def combine_customers_data_and_article_ID_1element(article_id_list,customers_metadata,i):\n",
    "    customers_metadata_element=customers_metadata.copy()\n",
    "    customers_metadata_element['article_id']=article_id_list[i]\n",
    "    return customers_metadata_element\n",
    "def creat_total_features(articles_metadata,customers_metadata):\n",
    "    article_id_list=articles_metadata['article_id'].to_list()\n",
    "    df=combine_customers_data_and_article_ID_1element(article_id_list,customers_metadata,0)\n",
    "    for i in range(len(article_id_list)-1):\n",
    "        print('{}/{}'.format(i,len(article_id_list)))\n",
    "        df=pd.concat([df, combine_customers_data_and_article_ID_1element(article_id_list,customers_metadata,i+1)])\n",
    "    articles_customers_metadata=pd.merge(df,articles_metadata,how='left')\n",
    "    return articles_customers_metadata\n",
    "def add_labels_to_data(transactions_train,articles_customers_metadata):\n",
    "    transactions_train['result']='buy'\n",
    "    articles_customers_transactions_metadata=pd.merge(articles_customers_metadata,transactions_train,how='left')\n",
    "    \n",
    "    articles_customers_transactions_metadata_drop=articles_customers_transactions_metadata.drop([\"Unnamed: 0\"], axis=1)\n",
    "    t_dat_split=articles_customers_transactions_metadata_drop['t_dat'].str.split('-',5, True)\n",
    "    articles_customers_transactions_metadata_drop['month']=t_dat_split[1]\n",
    "    articles_customers_transactions_metadata_drop['day']=t_dat_split[2]\n",
    "    articles_customers_transactions_metadata_drop_t_dat=articles_customers_transactions_metadata_drop.drop([\"t_dat\"], axis=1)\n",
    "    articles_customers_transactions_metadata_drop_t_dat['result'].fillna(value='notnuy',inplace=True)\n",
    "    return articles_customers_transactions_metadata_drop_t_dat\n",
    "def make_totaldata(articles_metadata,customers_metadata,transactions_train):  \n",
    "    articles_customers_metadata=creat_total_features(articles_metadata,customers_metadata)\n",
    "    mydata=add_labels_to_data(transactions_train,articles_customers_metadata)\n",
    "    return mydata\n"
   ]
  },
  {
   "cell_type": "markdown",
   "id": "4d2ccbf7",
   "metadata": {},
   "source": [
    "## xgb train"
   ]
  },
  {
   "cell_type": "code",
   "execution_count": null,
   "id": "f749633a",
   "metadata": {},
   "outputs": [],
   "source": [
    "articles_metadata=pd.read_csv(r'.\\data\\articles.csv')\n",
    "customers_metadata=pd.read_csv(r'.\\data\\customers.csv')\n",
    "transactions_train=pd.read_csv(r'.\\data\\transactions_train30000.csv')\n",
    "make_totaldata(articles_metadata,customers_metadata,transactions_train)\n"
   ]
  }
 ],
 "metadata": {
  "kernelspec": {
   "display_name": "Python 3",
   "language": "python",
   "name": "python3"
  },
  "language_info": {
   "codemirror_mode": {
    "name": "ipython",
    "version": 3
   },
   "file_extension": ".py",
   "mimetype": "text/x-python",
   "name": "python",
   "nbconvert_exporter": "python",
   "pygments_lexer": "ipython3",
   "version": "3.8.8"
  }
 },
 "nbformat": 4,
 "nbformat_minor": 5
}
